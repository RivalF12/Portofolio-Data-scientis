{
 "cells": [
  {
   "cell_type": "code",
   "execution_count": 1,
   "metadata": {},
   "outputs": [],
   "source": [
    "import numpy as np\n",
    "import pandas as pd\n",
    "import matplotlib.pyplot as plt\n",
    "import seaborn as sns\n",
    "\n",
    "\n",
    "from sklearn.model_selection import train_test_split\n",
    "from sklearn.model_selection import (GridSearchCV, RandomizedSearchCV)\n",
    "from sklearn.metrics import (mean_squared_error, mean_absolute_error)\n",
    "from sklearn.preprocessing import MinMaxScaler\n",
    "from sklearn.ensemble import RandomForestRegressor\n",
    "from xgboost import XGBRFRegressor"
   ]
  },
  {
   "cell_type": "code",
   "execution_count": 2,
   "metadata": {},
   "outputs": [],
   "source": [
    "from matplotlib import rcParams\n",
    "rcParams['figure.figsize'] = 12, 4\n",
    "rcParams['lines.linewidth'] = 1\n",
    "rcParams['xtick.labelsize'] = 'x-large'\n",
    "rcParams['ytick.labelsize'] = 'x-large'"
   ]
  },
  {
   "cell_type": "markdown",
   "metadata": {},
   "source": [
    "## Load dataset"
   ]
  },
  {
   "cell_type": "code",
   "execution_count": 3,
   "metadata": {},
   "outputs": [
    {
     "data": {
      "text/html": [
       "<div>\n",
       "<style scoped>\n",
       "    .dataframe tbody tr th:only-of-type {\n",
       "        vertical-align: middle;\n",
       "    }\n",
       "\n",
       "    .dataframe tbody tr th {\n",
       "        vertical-align: top;\n",
       "    }\n",
       "\n",
       "    .dataframe thead th {\n",
       "        text-align: right;\n",
       "    }\n",
       "</style>\n",
       "<table border=\"1\" class=\"dataframe\">\n",
       "  <thead>\n",
       "    <tr style=\"text-align: right;\">\n",
       "      <th></th>\n",
       "      <th>Unnamed: 0</th>\n",
       "      <th>Name</th>\n",
       "      <th>Location</th>\n",
       "      <th>Year</th>\n",
       "      <th>Kilometers_Driven</th>\n",
       "      <th>Fuel_Type</th>\n",
       "      <th>Transmission</th>\n",
       "      <th>Owner_Type</th>\n",
       "      <th>Mileage</th>\n",
       "      <th>Engine</th>\n",
       "      <th>Power</th>\n",
       "      <th>Seats</th>\n",
       "      <th>New_Price</th>\n",
       "      <th>Price</th>\n",
       "    </tr>\n",
       "  </thead>\n",
       "  <tbody>\n",
       "    <tr>\n",
       "      <th>0</th>\n",
       "      <td>0</td>\n",
       "      <td>Maruti Wagon R LXI CNG</td>\n",
       "      <td>Mumbai</td>\n",
       "      <td>2010</td>\n",
       "      <td>72000</td>\n",
       "      <td>CNG</td>\n",
       "      <td>Manual</td>\n",
       "      <td>First</td>\n",
       "      <td>26.6 km/kg</td>\n",
       "      <td>998 CC</td>\n",
       "      <td>58.16 bhp</td>\n",
       "      <td>5.0</td>\n",
       "      <td>NaN</td>\n",
       "      <td>1.75</td>\n",
       "    </tr>\n",
       "    <tr>\n",
       "      <th>1</th>\n",
       "      <td>1</td>\n",
       "      <td>Hyundai Creta 1.6 CRDi SX Option</td>\n",
       "      <td>Pune</td>\n",
       "      <td>2015</td>\n",
       "      <td>41000</td>\n",
       "      <td>Diesel</td>\n",
       "      <td>Manual</td>\n",
       "      <td>First</td>\n",
       "      <td>19.67 kmpl</td>\n",
       "      <td>1582 CC</td>\n",
       "      <td>126.2 bhp</td>\n",
       "      <td>5.0</td>\n",
       "      <td>NaN</td>\n",
       "      <td>12.50</td>\n",
       "    </tr>\n",
       "    <tr>\n",
       "      <th>2</th>\n",
       "      <td>2</td>\n",
       "      <td>Honda Jazz V</td>\n",
       "      <td>Chennai</td>\n",
       "      <td>2011</td>\n",
       "      <td>46000</td>\n",
       "      <td>Petrol</td>\n",
       "      <td>Manual</td>\n",
       "      <td>First</td>\n",
       "      <td>18.2 kmpl</td>\n",
       "      <td>1199 CC</td>\n",
       "      <td>88.7 bhp</td>\n",
       "      <td>5.0</td>\n",
       "      <td>8.61 Lakh</td>\n",
       "      <td>4.50</td>\n",
       "    </tr>\n",
       "    <tr>\n",
       "      <th>3</th>\n",
       "      <td>3</td>\n",
       "      <td>Maruti Ertiga VDI</td>\n",
       "      <td>Chennai</td>\n",
       "      <td>2012</td>\n",
       "      <td>87000</td>\n",
       "      <td>Diesel</td>\n",
       "      <td>Manual</td>\n",
       "      <td>First</td>\n",
       "      <td>20.77 kmpl</td>\n",
       "      <td>1248 CC</td>\n",
       "      <td>88.76 bhp</td>\n",
       "      <td>7.0</td>\n",
       "      <td>NaN</td>\n",
       "      <td>6.00</td>\n",
       "    </tr>\n",
       "    <tr>\n",
       "      <th>4</th>\n",
       "      <td>4</td>\n",
       "      <td>Audi A4 New 2.0 TDI Multitronic</td>\n",
       "      <td>Coimbatore</td>\n",
       "      <td>2013</td>\n",
       "      <td>40670</td>\n",
       "      <td>Diesel</td>\n",
       "      <td>Automatic</td>\n",
       "      <td>Second</td>\n",
       "      <td>15.2 kmpl</td>\n",
       "      <td>1968 CC</td>\n",
       "      <td>140.8 bhp</td>\n",
       "      <td>5.0</td>\n",
       "      <td>NaN</td>\n",
       "      <td>17.74</td>\n",
       "    </tr>\n",
       "  </tbody>\n",
       "</table>\n",
       "</div>"
      ],
      "text/plain": [
       "   Unnamed: 0                              Name    Location  Year  \\\n",
       "0           0            Maruti Wagon R LXI CNG      Mumbai  2010   \n",
       "1           1  Hyundai Creta 1.6 CRDi SX Option        Pune  2015   \n",
       "2           2                      Honda Jazz V     Chennai  2011   \n",
       "3           3                 Maruti Ertiga VDI     Chennai  2012   \n",
       "4           4   Audi A4 New 2.0 TDI Multitronic  Coimbatore  2013   \n",
       "\n",
       "   Kilometers_Driven Fuel_Type Transmission Owner_Type     Mileage   Engine  \\\n",
       "0              72000       CNG       Manual      First  26.6 km/kg   998 CC   \n",
       "1              41000    Diesel       Manual      First  19.67 kmpl  1582 CC   \n",
       "2              46000    Petrol       Manual      First   18.2 kmpl  1199 CC   \n",
       "3              87000    Diesel       Manual      First  20.77 kmpl  1248 CC   \n",
       "4              40670    Diesel    Automatic     Second   15.2 kmpl  1968 CC   \n",
       "\n",
       "       Power  Seats  New_Price  Price  \n",
       "0  58.16 bhp    5.0        NaN   1.75  \n",
       "1  126.2 bhp    5.0        NaN  12.50  \n",
       "2   88.7 bhp    5.0  8.61 Lakh   4.50  \n",
       "3  88.76 bhp    7.0        NaN   6.00  \n",
       "4  140.8 bhp    5.0        NaN  17.74  "
      ]
     },
     "execution_count": 3,
     "metadata": {},
     "output_type": "execute_result"
    }
   ],
   "source": [
    "df_train = pd.read_csv('train-data.csv')\n",
    "\n",
    "df_train.head()"
   ]
  },
  {
   "cell_type": "markdown",
   "metadata": {},
   "source": [
    "## Data Null"
   ]
  },
  {
   "cell_type": "code",
   "execution_count": 4,
   "metadata": {},
   "outputs": [],
   "source": [
    "b_cleansing = df_train.copy()"
   ]
  },
  {
   "cell_type": "code",
   "execution_count": 5,
   "metadata": {},
   "outputs": [
    {
     "name": "stdout",
     "output_type": "stream",
     "text": [
      "<class 'pandas.core.frame.DataFrame'>\n",
      "RangeIndex: 6019 entries, 0 to 6018\n",
      "Data columns (total 14 columns):\n",
      " #   Column             Non-Null Count  Dtype  \n",
      "---  ------             --------------  -----  \n",
      " 0   Unnamed: 0         6019 non-null   int64  \n",
      " 1   Name               6019 non-null   object \n",
      " 2   Location           6019 non-null   object \n",
      " 3   Year               6019 non-null   int64  \n",
      " 4   Kilometers_Driven  6019 non-null   int64  \n",
      " 5   Fuel_Type          6019 non-null   object \n",
      " 6   Transmission       6019 non-null   object \n",
      " 7   Owner_Type         6019 non-null   object \n",
      " 8   Mileage            6017 non-null   object \n",
      " 9   Engine             5983 non-null   object \n",
      " 10  Power              5983 non-null   object \n",
      " 11  Seats              5977 non-null   float64\n",
      " 12  New_Price          824 non-null    object \n",
      " 13  Price              6019 non-null   float64\n",
      "dtypes: float64(2), int64(3), object(9)\n",
      "memory usage: 658.5+ KB\n"
     ]
    }
   ],
   "source": [
    "df_train.info()"
   ]
  },
  {
   "cell_type": "code",
   "execution_count": 6,
   "metadata": {},
   "outputs": [
    {
     "data": {
      "text/plain": [
       "Unnamed: 0              0\n",
       "Name                    0\n",
       "Location                0\n",
       "Year                    0\n",
       "Kilometers_Driven       0\n",
       "Fuel_Type               0\n",
       "Transmission            0\n",
       "Owner_Type              0\n",
       "Mileage                 2\n",
       "Engine                 36\n",
       "Power                  36\n",
       "Seats                  42\n",
       "New_Price            5195\n",
       "Price                   0\n",
       "dtype: int64"
      ]
     },
     "execution_count": 6,
     "metadata": {},
     "output_type": "execute_result"
    }
   ],
   "source": [
    "df_train.isna().sum()"
   ]
  },
  {
   "cell_type": "markdown",
   "metadata": {},
   "source": [
    "- Kolom \"New_Price\" dihapus karena banyak memiliki data null\n",
    "- baris yang memiliki data kosong dihapus"
   ]
  },
  {
   "cell_type": "code",
   "execution_count": 7,
   "metadata": {},
   "outputs": [
    {
     "data": {
      "text/plain": [
       "Name                 0\n",
       "Location             0\n",
       "Year                 0\n",
       "Kilometers_Driven    0\n",
       "Fuel_Type            0\n",
       "Transmission         0\n",
       "Owner_Type           0\n",
       "Mileage              0\n",
       "Engine               0\n",
       "Power                0\n",
       "Seats                0\n",
       "Price                0\n",
       "dtype: int64"
      ]
     },
     "execution_count": 7,
     "metadata": {},
     "output_type": "execute_result"
    }
   ],
   "source": [
    "df_train.drop(['New_Price','Unnamed: 0'], axis=1, inplace=True)\n",
    "df_train = df_train.dropna()\n",
    "df_train = df_train.reset_index(drop=True)\n",
    "\n",
    "df_train.isna().sum()"
   ]
  },
  {
   "cell_type": "markdown",
   "metadata": {},
   "source": [
    "## Pengelompokan data"
   ]
  },
  {
   "cell_type": "markdown",
   "metadata": {},
   "source": [
    "Mengganti kolom yang terbaca sebagai object untuk menjadi numerical\n",
    "- \"Mileage\"\n",
    "- \"Engine\"\n",
    "- \"Power\""
   ]
  },
  {
   "cell_type": "code",
   "execution_count": 8,
   "metadata": {},
   "outputs": [],
   "source": [
    "numericals = ['Year', 'Kilometers_Driven',  'Seats', 'Price' ]\n",
    "categoricals = ['Name', 'Location','Fuel_Type','Transmission' , 'Owner_Type', 'Mileage', 'Engine' ,'Power']"
   ]
  },
  {
   "cell_type": "code",
   "execution_count": 9,
   "metadata": {},
   "outputs": [],
   "source": [
    "for i in range(len(df_train)):\n",
    "    df_train.at[i, 'Brand'] = df_train['Name'][i].split()[0].capitalize()\n",
    "    df_train.at[i, 'Mileage(km/kg)'] = df_train['Mileage'][i].split()[0]\n",
    "    df_train.at[i, 'Engine(CC)'] = df_train['Engine'][i].split()[0]\n",
    "    df_train.at[i, 'Power(bhp)'] = df_train['Power'][i].split()[0]\n"
   ]
  },
  {
   "cell_type": "code",
   "execution_count": 10,
   "metadata": {},
   "outputs": [],
   "source": [
    "#menghapus kata-kata \"null\" yang ada dalam kolom\n",
    "\n",
    "position = []\n",
    "for i in range(len(df_train)):\n",
    "    if df_train['Power(bhp)'][i]=='null':\n",
    "        position.append(i)\n",
    "\n",
    "df_train = df_train.drop(df_train.index[position])\n",
    "df_train = df_train.reset_index(drop=True)"
   ]
  },
  {
   "cell_type": "code",
   "execution_count": 11,
   "metadata": {},
   "outputs": [],
   "source": [
    "#ubah data menjadi float / numerical\n",
    "\n",
    "df_train['Mileage(km/kg)'] = df_train['Mileage(km/kg)'].astype(float)\n",
    "df_train['Engine(CC)'] = df_train['Engine(CC)'].astype(float)\n",
    "df_train['Power(bhp)'] = df_train['Power(bhp)'].astype(float)\n",
    "\n",
    "#Menghapus kolom lama karena sudah diganti\n",
    "df_train.drop(['Name','Mileage','Engine','Power'], axis=1, inplace=True)"
   ]
  },
  {
   "cell_type": "code",
   "execution_count": 12,
   "metadata": {},
   "outputs": [
    {
     "name": "stdout",
     "output_type": "stream",
     "text": [
      "<class 'pandas.core.frame.DataFrame'>\n",
      "RangeIndex: 5872 entries, 0 to 5871\n",
      "Data columns (total 12 columns):\n",
      " #   Column             Non-Null Count  Dtype  \n",
      "---  ------             --------------  -----  \n",
      " 0   Location           5872 non-null   object \n",
      " 1   Year               5872 non-null   int64  \n",
      " 2   Kilometers_Driven  5872 non-null   int64  \n",
      " 3   Fuel_Type          5872 non-null   object \n",
      " 4   Transmission       5872 non-null   object \n",
      " 5   Owner_Type         5872 non-null   object \n",
      " 6   Seats              5872 non-null   float64\n",
      " 7   Price              5872 non-null   float64\n",
      " 8   Brand              5872 non-null   object \n",
      " 9   Mileage(km/kg)     5872 non-null   float64\n",
      " 10  Engine(CC)         5872 non-null   float64\n",
      " 11  Power(bhp)         5872 non-null   float64\n",
      "dtypes: float64(5), int64(2), object(5)\n",
      "memory usage: 550.6+ KB\n"
     ]
    }
   ],
   "source": [
    "df_train.info()"
   ]
  },
  {
   "cell_type": "code",
   "execution_count": 13,
   "metadata": {},
   "outputs": [],
   "source": [
    "b_class = df_train.copy()"
   ]
  },
  {
   "cell_type": "markdown",
   "metadata": {},
   "source": [
    "Klasifikasi data agar menjadi saat dibuat pemodelan memiliki kolom yang lebih sedikit\n",
    "- \"Owner_Type\" menjadi 3 unique data (\"First\", \"Second\", \"Third>\")\n",
    "- \"Brand\" menjadi data negara pembuat (co : \"Maruti\" menjadi \"India\")\n",
    "- \"Year\" menjadi \"Age\" (co: 2015 menjadi 5, 2019 menjadi 1 )"
   ]
  },
  {
   "cell_type": "code",
   "execution_count": 14,
   "metadata": {},
   "outputs": [],
   "source": [
    "#klasifikasi data Brand berdasarkan negara\n",
    "\n",
    "India = ['Maruti','Tata', 'Mahindra', 'Ambassador', 'Force']\n",
    "Jepang =  ['Honda','Nissan', 'Toyota', 'Mitsubishi', 'Datsun', 'Isuzu' ]\n",
    "Jerman = ['Audi', 'Volkswagen', 'Mercedes-benz', 'Bmw', 'Porsche'] \n",
    "Inggris = ['Land', 'Jaguar', 'Mini', 'Bentley']\n",
    "Amerika = ['Ford', 'Chevrolet','Jeep']\n",
    "Eropa = ['Renault', 'Volvo', 'Skoda', 'Fiat', 'Lamborghini']\n",
    "Asia = ['Hyundai']\n",
    "\n",
    "Car_negara = []\n",
    "\n",
    "for kolom in df_train['Brand']:\n",
    "    if kolom in India:\n",
    "        Car_negara.append(\"India\")\n",
    "    elif kolom in Jepang:\n",
    "        Car_negara.append(\"Jepang\")\n",
    "    elif kolom in Jerman:\n",
    "        Car_negara.append(\"Jerman\")\n",
    "    elif kolom in Inggris:\n",
    "        Car_negara.append(\"Inggris\")\n",
    "    elif kolom in Amerika:\n",
    "        Car_negara.append(\"Amerika\")\n",
    "    elif kolom in Eropa:\n",
    "        Car_negara.append(\"Eropa\")\n",
    "    else:\n",
    "        Car_negara.append(\"Asia\")\n",
    "        \n",
    "df_train['car_negara'] = Car_negara"
   ]
  },
  {
   "cell_type": "code",
   "execution_count": 15,
   "metadata": {},
   "outputs": [],
   "source": [
    "#klasifikasi Owner_Type\n",
    "\n",
    "owner_type = []\n",
    "\n",
    "for kolom in df_train['Owner_Type']:\n",
    "    if kolom in 'First':\n",
    "        owner_type.append(\"First\")\n",
    "    elif kolom in 'Second':\n",
    "        owner_type.append(\"Second\")\n",
    "    else:\n",
    "        owner_type.append(\"Third>\")\n",
    "        \n",
    "df_train['owner_type'] = owner_type  "
   ]
  },
  {
   "cell_type": "code",
   "execution_count": 16,
   "metadata": {},
   "outputs": [],
   "source": [
    "# Year menjadi Age\n",
    "\n",
    "Age = []\n",
    "\n",
    "for umur in df_train['Year']:\n",
    "    Age.append(2020 - umur)\n",
    "    \n",
    "df_train['Age'] = Age"
   ]
  },
  {
   "cell_type": "code",
   "execution_count": 17,
   "metadata": {},
   "outputs": [],
   "source": [
    "#Seats menjadi non 2 seat\n",
    "\n",
    "Seat = []\n",
    "\n",
    "for kolom in df_train['Seats']:\n",
    "    if kolom == 2 :\n",
    "        Seat.append(1)\n",
    "    else:\n",
    "        Seat.append(0)\n",
    "        \n",
    "df_train['two_seats'] = Seat  "
   ]
  },
  {
   "cell_type": "code",
   "execution_count": 18,
   "metadata": {},
   "outputs": [],
   "source": [
    "#counts\n",
    "\n",
    "itungan = []\n",
    "\n",
    "for x in range(len(df_train)):\n",
    "    itungan.append(1)\n",
    "    \n",
    "df_train['itungan'] = itungan"
   ]
  },
  {
   "cell_type": "code",
   "execution_count": 19,
   "metadata": {},
   "outputs": [],
   "source": [
    "b_viz = df_train.copy()"
   ]
  },
  {
   "cell_type": "code",
   "execution_count": 20,
   "metadata": {},
   "outputs": [],
   "source": [
    "b_viz.to_csv(r'untuk_visualisasi.csv', index = False)"
   ]
  },
  {
   "cell_type": "markdown",
   "metadata": {},
   "source": [
    "## Visualisasi untuk Insight"
   ]
  },
  {
   "cell_type": "code",
   "execution_count": 21,
   "metadata": {},
   "outputs": [
    {
     "data": {
      "text/html": [
       "<div>\n",
       "<style scoped>\n",
       "    .dataframe tbody tr th:only-of-type {\n",
       "        vertical-align: middle;\n",
       "    }\n",
       "\n",
       "    .dataframe tbody tr th {\n",
       "        vertical-align: top;\n",
       "    }\n",
       "\n",
       "    .dataframe thead th {\n",
       "        text-align: right;\n",
       "    }\n",
       "</style>\n",
       "<table border=\"1\" class=\"dataframe\">\n",
       "  <thead>\n",
       "    <tr style=\"text-align: right;\">\n",
       "      <th></th>\n",
       "      <th>Location</th>\n",
       "      <th>Year</th>\n",
       "      <th>Kilometers_Driven</th>\n",
       "      <th>Fuel_Type</th>\n",
       "      <th>Transmission</th>\n",
       "      <th>Owner_Type</th>\n",
       "      <th>Seats</th>\n",
       "      <th>Price</th>\n",
       "      <th>Brand</th>\n",
       "      <th>Mileage(km/kg)</th>\n",
       "      <th>Engine(CC)</th>\n",
       "      <th>Power(bhp)</th>\n",
       "      <th>car_negara</th>\n",
       "      <th>owner_type</th>\n",
       "      <th>Age</th>\n",
       "      <th>two_seats</th>\n",
       "      <th>itungan</th>\n",
       "    </tr>\n",
       "  </thead>\n",
       "  <tbody>\n",
       "    <tr>\n",
       "      <th>0</th>\n",
       "      <td>Mumbai</td>\n",
       "      <td>2010</td>\n",
       "      <td>72000</td>\n",
       "      <td>CNG</td>\n",
       "      <td>Manual</td>\n",
       "      <td>First</td>\n",
       "      <td>5.0</td>\n",
       "      <td>1.75</td>\n",
       "      <td>Maruti</td>\n",
       "      <td>26.60</td>\n",
       "      <td>998.0</td>\n",
       "      <td>58.16</td>\n",
       "      <td>India</td>\n",
       "      <td>First</td>\n",
       "      <td>10</td>\n",
       "      <td>0</td>\n",
       "      <td>1</td>\n",
       "    </tr>\n",
       "    <tr>\n",
       "      <th>1</th>\n",
       "      <td>Pune</td>\n",
       "      <td>2015</td>\n",
       "      <td>41000</td>\n",
       "      <td>Diesel</td>\n",
       "      <td>Manual</td>\n",
       "      <td>First</td>\n",
       "      <td>5.0</td>\n",
       "      <td>12.50</td>\n",
       "      <td>Hyundai</td>\n",
       "      <td>19.67</td>\n",
       "      <td>1582.0</td>\n",
       "      <td>126.20</td>\n",
       "      <td>Asia</td>\n",
       "      <td>First</td>\n",
       "      <td>5</td>\n",
       "      <td>0</td>\n",
       "      <td>1</td>\n",
       "    </tr>\n",
       "    <tr>\n",
       "      <th>2</th>\n",
       "      <td>Chennai</td>\n",
       "      <td>2011</td>\n",
       "      <td>46000</td>\n",
       "      <td>Petrol</td>\n",
       "      <td>Manual</td>\n",
       "      <td>First</td>\n",
       "      <td>5.0</td>\n",
       "      <td>4.50</td>\n",
       "      <td>Honda</td>\n",
       "      <td>18.20</td>\n",
       "      <td>1199.0</td>\n",
       "      <td>88.70</td>\n",
       "      <td>Jepang</td>\n",
       "      <td>First</td>\n",
       "      <td>9</td>\n",
       "      <td>0</td>\n",
       "      <td>1</td>\n",
       "    </tr>\n",
       "    <tr>\n",
       "      <th>3</th>\n",
       "      <td>Chennai</td>\n",
       "      <td>2012</td>\n",
       "      <td>87000</td>\n",
       "      <td>Diesel</td>\n",
       "      <td>Manual</td>\n",
       "      <td>First</td>\n",
       "      <td>7.0</td>\n",
       "      <td>6.00</td>\n",
       "      <td>Maruti</td>\n",
       "      <td>20.77</td>\n",
       "      <td>1248.0</td>\n",
       "      <td>88.76</td>\n",
       "      <td>India</td>\n",
       "      <td>First</td>\n",
       "      <td>8</td>\n",
       "      <td>0</td>\n",
       "      <td>1</td>\n",
       "    </tr>\n",
       "    <tr>\n",
       "      <th>4</th>\n",
       "      <td>Coimbatore</td>\n",
       "      <td>2013</td>\n",
       "      <td>40670</td>\n",
       "      <td>Diesel</td>\n",
       "      <td>Automatic</td>\n",
       "      <td>Second</td>\n",
       "      <td>5.0</td>\n",
       "      <td>17.74</td>\n",
       "      <td>Audi</td>\n",
       "      <td>15.20</td>\n",
       "      <td>1968.0</td>\n",
       "      <td>140.80</td>\n",
       "      <td>Jerman</td>\n",
       "      <td>Second</td>\n",
       "      <td>7</td>\n",
       "      <td>0</td>\n",
       "      <td>1</td>\n",
       "    </tr>\n",
       "    <tr>\n",
       "      <th>...</th>\n",
       "      <td>...</td>\n",
       "      <td>...</td>\n",
       "      <td>...</td>\n",
       "      <td>...</td>\n",
       "      <td>...</td>\n",
       "      <td>...</td>\n",
       "      <td>...</td>\n",
       "      <td>...</td>\n",
       "      <td>...</td>\n",
       "      <td>...</td>\n",
       "      <td>...</td>\n",
       "      <td>...</td>\n",
       "      <td>...</td>\n",
       "      <td>...</td>\n",
       "      <td>...</td>\n",
       "      <td>...</td>\n",
       "      <td>...</td>\n",
       "    </tr>\n",
       "    <tr>\n",
       "      <th>5867</th>\n",
       "      <td>Delhi</td>\n",
       "      <td>2014</td>\n",
       "      <td>27365</td>\n",
       "      <td>Diesel</td>\n",
       "      <td>Manual</td>\n",
       "      <td>First</td>\n",
       "      <td>5.0</td>\n",
       "      <td>4.75</td>\n",
       "      <td>Maruti</td>\n",
       "      <td>28.40</td>\n",
       "      <td>1248.0</td>\n",
       "      <td>74.00</td>\n",
       "      <td>India</td>\n",
       "      <td>First</td>\n",
       "      <td>6</td>\n",
       "      <td>0</td>\n",
       "      <td>1</td>\n",
       "    </tr>\n",
       "    <tr>\n",
       "      <th>5868</th>\n",
       "      <td>Jaipur</td>\n",
       "      <td>2015</td>\n",
       "      <td>100000</td>\n",
       "      <td>Diesel</td>\n",
       "      <td>Manual</td>\n",
       "      <td>First</td>\n",
       "      <td>5.0</td>\n",
       "      <td>4.00</td>\n",
       "      <td>Hyundai</td>\n",
       "      <td>24.40</td>\n",
       "      <td>1120.0</td>\n",
       "      <td>71.00</td>\n",
       "      <td>Asia</td>\n",
       "      <td>First</td>\n",
       "      <td>5</td>\n",
       "      <td>0</td>\n",
       "      <td>1</td>\n",
       "    </tr>\n",
       "    <tr>\n",
       "      <th>5869</th>\n",
       "      <td>Jaipur</td>\n",
       "      <td>2012</td>\n",
       "      <td>55000</td>\n",
       "      <td>Diesel</td>\n",
       "      <td>Manual</td>\n",
       "      <td>Second</td>\n",
       "      <td>8.0</td>\n",
       "      <td>2.90</td>\n",
       "      <td>Mahindra</td>\n",
       "      <td>14.00</td>\n",
       "      <td>2498.0</td>\n",
       "      <td>112.00</td>\n",
       "      <td>India</td>\n",
       "      <td>Second</td>\n",
       "      <td>8</td>\n",
       "      <td>0</td>\n",
       "      <td>1</td>\n",
       "    </tr>\n",
       "    <tr>\n",
       "      <th>5870</th>\n",
       "      <td>Kolkata</td>\n",
       "      <td>2013</td>\n",
       "      <td>46000</td>\n",
       "      <td>Petrol</td>\n",
       "      <td>Manual</td>\n",
       "      <td>First</td>\n",
       "      <td>5.0</td>\n",
       "      <td>2.65</td>\n",
       "      <td>Maruti</td>\n",
       "      <td>18.90</td>\n",
       "      <td>998.0</td>\n",
       "      <td>67.10</td>\n",
       "      <td>India</td>\n",
       "      <td>First</td>\n",
       "      <td>7</td>\n",
       "      <td>0</td>\n",
       "      <td>1</td>\n",
       "    </tr>\n",
       "    <tr>\n",
       "      <th>5871</th>\n",
       "      <td>Hyderabad</td>\n",
       "      <td>2011</td>\n",
       "      <td>47000</td>\n",
       "      <td>Diesel</td>\n",
       "      <td>Manual</td>\n",
       "      <td>First</td>\n",
       "      <td>5.0</td>\n",
       "      <td>2.50</td>\n",
       "      <td>Chevrolet</td>\n",
       "      <td>25.44</td>\n",
       "      <td>936.0</td>\n",
       "      <td>57.60</td>\n",
       "      <td>Amerika</td>\n",
       "      <td>First</td>\n",
       "      <td>9</td>\n",
       "      <td>0</td>\n",
       "      <td>1</td>\n",
       "    </tr>\n",
       "  </tbody>\n",
       "</table>\n",
       "<p>5872 rows × 17 columns</p>\n",
       "</div>"
      ],
      "text/plain": [
       "        Location  Year  Kilometers_Driven Fuel_Type Transmission Owner_Type  \\\n",
       "0         Mumbai  2010              72000       CNG       Manual      First   \n",
       "1           Pune  2015              41000    Diesel       Manual      First   \n",
       "2        Chennai  2011              46000    Petrol       Manual      First   \n",
       "3        Chennai  2012              87000    Diesel       Manual      First   \n",
       "4     Coimbatore  2013              40670    Diesel    Automatic     Second   \n",
       "...          ...   ...                ...       ...          ...        ...   \n",
       "5867       Delhi  2014              27365    Diesel       Manual      First   \n",
       "5868      Jaipur  2015             100000    Diesel       Manual      First   \n",
       "5869      Jaipur  2012              55000    Diesel       Manual     Second   \n",
       "5870     Kolkata  2013              46000    Petrol       Manual      First   \n",
       "5871   Hyderabad  2011              47000    Diesel       Manual      First   \n",
       "\n",
       "      Seats  Price      Brand  Mileage(km/kg)  Engine(CC)  Power(bhp)  \\\n",
       "0       5.0   1.75     Maruti           26.60       998.0       58.16   \n",
       "1       5.0  12.50    Hyundai           19.67      1582.0      126.20   \n",
       "2       5.0   4.50      Honda           18.20      1199.0       88.70   \n",
       "3       7.0   6.00     Maruti           20.77      1248.0       88.76   \n",
       "4       5.0  17.74       Audi           15.20      1968.0      140.80   \n",
       "...     ...    ...        ...             ...         ...         ...   \n",
       "5867    5.0   4.75     Maruti           28.40      1248.0       74.00   \n",
       "5868    5.0   4.00    Hyundai           24.40      1120.0       71.00   \n",
       "5869    8.0   2.90   Mahindra           14.00      2498.0      112.00   \n",
       "5870    5.0   2.65     Maruti           18.90       998.0       67.10   \n",
       "5871    5.0   2.50  Chevrolet           25.44       936.0       57.60   \n",
       "\n",
       "     car_negara owner_type  Age  two_seats  itungan  \n",
       "0         India      First   10          0        1  \n",
       "1          Asia      First    5          0        1  \n",
       "2        Jepang      First    9          0        1  \n",
       "3         India      First    8          0        1  \n",
       "4        Jerman     Second    7          0        1  \n",
       "...         ...        ...  ...        ...      ...  \n",
       "5867      India      First    6          0        1  \n",
       "5868       Asia      First    5          0        1  \n",
       "5869      India     Second    8          0        1  \n",
       "5870      India      First    7          0        1  \n",
       "5871    Amerika      First    9          0        1  \n",
       "\n",
       "[5872 rows x 17 columns]"
      ]
     },
     "execution_count": 21,
     "metadata": {},
     "output_type": "execute_result"
    }
   ],
   "source": [
    "b_viz"
   ]
  },
  {
   "cell_type": "markdown",
   "metadata": {},
   "source": [
    "### Brand Insight"
   ]
  },
  {
   "cell_type": "code",
   "execution_count": 27,
   "metadata": {},
   "outputs": [
    {
     "data": {
      "text/html": [
       "<div>\n",
       "<style scoped>\n",
       "    .dataframe tbody tr th:only-of-type {\n",
       "        vertical-align: middle;\n",
       "    }\n",
       "\n",
       "    .dataframe tbody tr th {\n",
       "        vertical-align: top;\n",
       "    }\n",
       "\n",
       "    .dataframe thead th {\n",
       "        text-align: right;\n",
       "    }\n",
       "</style>\n",
       "<table border=\"1\" class=\"dataframe\">\n",
       "  <thead>\n",
       "    <tr style=\"text-align: right;\">\n",
       "      <th></th>\n",
       "      <th>Location</th>\n",
       "      <th>Year</th>\n",
       "      <th>Kilometers_Driven</th>\n",
       "      <th>Fuel_Type</th>\n",
       "      <th>Transmission</th>\n",
       "      <th>Owner_Type</th>\n",
       "      <th>Seats</th>\n",
       "      <th>Price</th>\n",
       "      <th>Brand</th>\n",
       "      <th>Mileage(km/kg)</th>\n",
       "      <th>Engine(CC)</th>\n",
       "      <th>Power(bhp)</th>\n",
       "      <th>car_negara</th>\n",
       "      <th>owner_type</th>\n",
       "      <th>Age</th>\n",
       "      <th>two_seats</th>\n",
       "      <th>itungan</th>\n",
       "    </tr>\n",
       "  </thead>\n",
       "  <tbody>\n",
       "    <tr>\n",
       "      <th>1667</th>\n",
       "      <td>Pune</td>\n",
       "      <td>2011</td>\n",
       "      <td>65000</td>\n",
       "      <td>Petrol</td>\n",
       "      <td>Manual</td>\n",
       "      <td>Second</td>\n",
       "      <td>4.0</td>\n",
       "      <td>0.44</td>\n",
       "      <td>Tata</td>\n",
       "      <td>26.00</td>\n",
       "      <td>624.0</td>\n",
       "      <td>35.0</td>\n",
       "      <td>India</td>\n",
       "      <td>Second</td>\n",
       "      <td>9</td>\n",
       "      <td>0</td>\n",
       "      <td>1</td>\n",
       "    </tr>\n",
       "    <tr>\n",
       "      <th>1584</th>\n",
       "      <td>Jaipur</td>\n",
       "      <td>2004</td>\n",
       "      <td>12000</td>\n",
       "      <td>Petrol</td>\n",
       "      <td>Manual</td>\n",
       "      <td>Second</td>\n",
       "      <td>4.0</td>\n",
       "      <td>0.45</td>\n",
       "      <td>Maruti</td>\n",
       "      <td>16.10</td>\n",
       "      <td>796.0</td>\n",
       "      <td>37.0</td>\n",
       "      <td>India</td>\n",
       "      <td>Second</td>\n",
       "      <td>16</td>\n",
       "      <td>0</td>\n",
       "      <td>1</td>\n",
       "    </tr>\n",
       "    <tr>\n",
       "      <th>3055</th>\n",
       "      <td>Jaipur</td>\n",
       "      <td>1998</td>\n",
       "      <td>95150</td>\n",
       "      <td>Petrol</td>\n",
       "      <td>Manual</td>\n",
       "      <td>Third</td>\n",
       "      <td>5.0</td>\n",
       "      <td>0.45</td>\n",
       "      <td>Maruti</td>\n",
       "      <td>17.30</td>\n",
       "      <td>993.0</td>\n",
       "      <td>60.0</td>\n",
       "      <td>India</td>\n",
       "      <td>Third&gt;</td>\n",
       "      <td>22</td>\n",
       "      <td>0</td>\n",
       "      <td>1</td>\n",
       "    </tr>\n",
       "    <tr>\n",
       "      <th>2768</th>\n",
       "      <td>Pune</td>\n",
       "      <td>2005</td>\n",
       "      <td>86000</td>\n",
       "      <td>Petrol</td>\n",
       "      <td>Manual</td>\n",
       "      <td>Second</td>\n",
       "      <td>5.0</td>\n",
       "      <td>0.45</td>\n",
       "      <td>Hyundai</td>\n",
       "      <td>15.30</td>\n",
       "      <td>1341.0</td>\n",
       "      <td>83.0</td>\n",
       "      <td>Asia</td>\n",
       "      <td>Second</td>\n",
       "      <td>15</td>\n",
       "      <td>0</td>\n",
       "      <td>1</td>\n",
       "    </tr>\n",
       "    <tr>\n",
       "      <th>3144</th>\n",
       "      <td>Pune</td>\n",
       "      <td>2003</td>\n",
       "      <td>52000</td>\n",
       "      <td>Petrol</td>\n",
       "      <td>Manual</td>\n",
       "      <td>First</td>\n",
       "      <td>4.0</td>\n",
       "      <td>0.50</td>\n",
       "      <td>Maruti</td>\n",
       "      <td>16.10</td>\n",
       "      <td>796.0</td>\n",
       "      <td>37.0</td>\n",
       "      <td>India</td>\n",
       "      <td>First</td>\n",
       "      <td>17</td>\n",
       "      <td>0</td>\n",
       "      <td>1</td>\n",
       "    </tr>\n",
       "    <tr>\n",
       "      <th>...</th>\n",
       "      <td>...</td>\n",
       "      <td>...</td>\n",
       "      <td>...</td>\n",
       "      <td>...</td>\n",
       "      <td>...</td>\n",
       "      <td>...</td>\n",
       "      <td>...</td>\n",
       "      <td>...</td>\n",
       "      <td>...</td>\n",
       "      <td>...</td>\n",
       "      <td>...</td>\n",
       "      <td>...</td>\n",
       "      <td>...</td>\n",
       "      <td>...</td>\n",
       "      <td>...</td>\n",
       "      <td>...</td>\n",
       "      <td>...</td>\n",
       "    </tr>\n",
       "    <tr>\n",
       "      <th>1926</th>\n",
       "      <td>Coimbatore</td>\n",
       "      <td>2018</td>\n",
       "      <td>28060</td>\n",
       "      <td>Petrol</td>\n",
       "      <td>Automatic</td>\n",
       "      <td>First</td>\n",
       "      <td>5.0</td>\n",
       "      <td>93.67</td>\n",
       "      <td>Bmw</td>\n",
       "      <td>12.05</td>\n",
       "      <td>2979.0</td>\n",
       "      <td>320.0</td>\n",
       "      <td>Jerman</td>\n",
       "      <td>First</td>\n",
       "      <td>2</td>\n",
       "      <td>0</td>\n",
       "      <td>1</td>\n",
       "    </tr>\n",
       "    <tr>\n",
       "      <th>1463</th>\n",
       "      <td>Kochi</td>\n",
       "      <td>2019</td>\n",
       "      <td>26013</td>\n",
       "      <td>Diesel</td>\n",
       "      <td>Automatic</td>\n",
       "      <td>First</td>\n",
       "      <td>5.0</td>\n",
       "      <td>97.07</td>\n",
       "      <td>Land</td>\n",
       "      <td>12.65</td>\n",
       "      <td>2993.0</td>\n",
       "      <td>255.0</td>\n",
       "      <td>Inggris</td>\n",
       "      <td>First</td>\n",
       "      <td>1</td>\n",
       "      <td>0</td>\n",
       "      <td>1</td>\n",
       "    </tr>\n",
       "    <tr>\n",
       "      <th>5775</th>\n",
       "      <td>Hyderabad</td>\n",
       "      <td>2015</td>\n",
       "      <td>8000</td>\n",
       "      <td>Petrol</td>\n",
       "      <td>Automatic</td>\n",
       "      <td>First</td>\n",
       "      <td>2.0</td>\n",
       "      <td>100.00</td>\n",
       "      <td>Jaguar</td>\n",
       "      <td>12.50</td>\n",
       "      <td>5000.0</td>\n",
       "      <td>488.1</td>\n",
       "      <td>Inggris</td>\n",
       "      <td>First</td>\n",
       "      <td>5</td>\n",
       "      <td>1</td>\n",
       "      <td>1</td>\n",
       "    </tr>\n",
       "    <tr>\n",
       "      <th>5640</th>\n",
       "      <td>Delhi</td>\n",
       "      <td>2011</td>\n",
       "      <td>6500</td>\n",
       "      <td>Petrol</td>\n",
       "      <td>Automatic</td>\n",
       "      <td>Third</td>\n",
       "      <td>2.0</td>\n",
       "      <td>120.00</td>\n",
       "      <td>Lamborghini</td>\n",
       "      <td>6.40</td>\n",
       "      <td>5204.0</td>\n",
       "      <td>560.0</td>\n",
       "      <td>Eropa</td>\n",
       "      <td>Third&gt;</td>\n",
       "      <td>9</td>\n",
       "      <td>1</td>\n",
       "      <td>1</td>\n",
       "    </tr>\n",
       "    <tr>\n",
       "      <th>3972</th>\n",
       "      <td>Hyderabad</td>\n",
       "      <td>2017</td>\n",
       "      <td>25000</td>\n",
       "      <td>Diesel</td>\n",
       "      <td>Automatic</td>\n",
       "      <td>First</td>\n",
       "      <td>5.0</td>\n",
       "      <td>160.00</td>\n",
       "      <td>Land</td>\n",
       "      <td>13.33</td>\n",
       "      <td>2993.0</td>\n",
       "      <td>255.0</td>\n",
       "      <td>Inggris</td>\n",
       "      <td>First</td>\n",
       "      <td>3</td>\n",
       "      <td>0</td>\n",
       "      <td>1</td>\n",
       "    </tr>\n",
       "  </tbody>\n",
       "</table>\n",
       "<p>5872 rows × 17 columns</p>\n",
       "</div>"
      ],
      "text/plain": [
       "        Location  Year  Kilometers_Driven Fuel_Type Transmission Owner_Type  \\\n",
       "1667        Pune  2011              65000    Petrol       Manual     Second   \n",
       "1584      Jaipur  2004              12000    Petrol       Manual     Second   \n",
       "3055      Jaipur  1998              95150    Petrol       Manual      Third   \n",
       "2768        Pune  2005              86000    Petrol       Manual     Second   \n",
       "3144        Pune  2003              52000    Petrol       Manual      First   \n",
       "...          ...   ...                ...       ...          ...        ...   \n",
       "1926  Coimbatore  2018              28060    Petrol    Automatic      First   \n",
       "1463       Kochi  2019              26013    Diesel    Automatic      First   \n",
       "5775   Hyderabad  2015               8000    Petrol    Automatic      First   \n",
       "5640       Delhi  2011               6500    Petrol    Automatic      Third   \n",
       "3972   Hyderabad  2017              25000    Diesel    Automatic      First   \n",
       "\n",
       "      Seats   Price        Brand  Mileage(km/kg)  Engine(CC)  Power(bhp)  \\\n",
       "1667    4.0    0.44         Tata           26.00       624.0        35.0   \n",
       "1584    4.0    0.45       Maruti           16.10       796.0        37.0   \n",
       "3055    5.0    0.45       Maruti           17.30       993.0        60.0   \n",
       "2768    5.0    0.45      Hyundai           15.30      1341.0        83.0   \n",
       "3144    4.0    0.50       Maruti           16.10       796.0        37.0   \n",
       "...     ...     ...          ...             ...         ...         ...   \n",
       "1926    5.0   93.67          Bmw           12.05      2979.0       320.0   \n",
       "1463    5.0   97.07         Land           12.65      2993.0       255.0   \n",
       "5775    2.0  100.00       Jaguar           12.50      5000.0       488.1   \n",
       "5640    2.0  120.00  Lamborghini            6.40      5204.0       560.0   \n",
       "3972    5.0  160.00         Land           13.33      2993.0       255.0   \n",
       "\n",
       "     car_negara owner_type  Age  two_seats  itungan  \n",
       "1667      India     Second    9          0        1  \n",
       "1584      India     Second   16          0        1  \n",
       "3055      India     Third>   22          0        1  \n",
       "2768       Asia     Second   15          0        1  \n",
       "3144      India      First   17          0        1  \n",
       "...         ...        ...  ...        ...      ...  \n",
       "1926     Jerman      First    2          0        1  \n",
       "1463    Inggris      First    1          0        1  \n",
       "5775    Inggris      First    5          1        1  \n",
       "5640      Eropa     Third>    9          1        1  \n",
       "3972    Inggris      First    3          0        1  \n",
       "\n",
       "[5872 rows x 17 columns]"
      ]
     },
     "execution_count": 27,
     "metadata": {},
     "output_type": "execute_result"
    }
   ],
   "source": [
    "b_viz"
   ]
  },
  {
   "cell_type": "markdown",
   "metadata": {},
   "source": [
    "#### brand (negara) vs location (bar chart stacked)"
   ]
  },
  {
   "cell_type": "code",
   "execution_count": 53,
   "metadata": {},
   "outputs": [
    {
     "data": {
      "text/plain": [
       "<Figure size 7200x2880 with 0 Axes>"
      ]
     },
     "metadata": {},
     "output_type": "display_data"
    },
    {
     "data": {
      "image/png": "[encoded data removed]",
      "text/plain": [
       "<Figure size 864x288 with 1 Axes>"
      ]
     },
     "metadata": {
      "needs_background": "light"
     },
     "output_type": "display_data"
    }
   ],
   "source": [
    "import matplotlib.pyplot as plt\n",
    "\n",
    "plt.figure(figsize = (100, 40))\n",
    "b_viz.groupby(['Location','car_negara'])['itungan'].sum().unstack().plot(kind='bar')\n",
    "plt.title('', loc='center',pad=30,fontsize=15,color='blue')\n",
    "\n",
    "plt.legend(bbox_to_anchor=(1,0.75), title='Negara Asal')\n",
    "plt.ylim(ymin=0)\n",
    "plt.xticks(rotation=30)\n",
    "plt.tight_layout()\n",
    "plt.show()"
   ]
  },
  {
   "cell_type": "markdown",
   "metadata": {},
   "source": [
    "coba liat lebih detail tentang Bangalore, Coimbatore, Mumbai yang kepemilikan mobilnya terlihat sama atau lebih besar\n",
    "\n",
    "dan kenapa mobil jerman bukan mobil lain??"
   ]
  },
  {
   "cell_type": "code",
   "execution_count": 73,
   "metadata": {},
   "outputs": [
    {
     "data": {
      "text/plain": [
       "<Figure size 72x72 with 0 Axes>"
      ]
     },
     "metadata": {},
     "output_type": "display_data"
    },
    {
     "data": {
      "image/png": "[encoded data removed]",
      "text/plain": [
       "<Figure size 864x288 with 1 Axes>"
      ]
     },
     "metadata": {
      "needs_background": "light"
     },
     "output_type": "display_data"
    }
   ],
   "source": [
    "import matplotlib.pyplot as plt\n",
    "\n",
    "plt.figure(figsize = (1, 1))\n",
    "b_viz.groupby(['owner_type','car_negara'])['itungan'].sum().unstack().plot(kind='bar')\n",
    "plt.title('', loc='center',pad=30,fontsize=15,color='blue')\n",
    "\n",
    "plt.legend(bbox_to_anchor=(1.12,0.75), title='Negara Asal')\n",
    "plt.ylim(ymin=0)\n",
    "plt.xticks(rotation=0)\n",
    "plt.tight_layout()\n",
    "plt.show()"
   ]
  },
  {
   "cell_type": "markdown",
   "metadata": {},
   "source": [
    "### two_seats"
   ]
  },
  {
   "cell_type": "code",
   "execution_count": 80,
   "metadata": {},
   "outputs": [
    {
     "data": {
      "text/plain": [
       "<Figure size 360x360 with 0 Axes>"
      ]
     },
     "metadata": {},
     "output_type": "display_data"
    },
    {
     "data": {
      "image/png": "[encoded data removed]",
      "text/plain": [
       "<Figure size 864x288 with 1 Axes>"
      ]
     },
     "metadata": {
      "needs_background": "light"
     },
     "output_type": "display_data"
    }
   ],
   "source": [
    "import matplotlib.pyplot as plt\n",
    "\n",
    "plt.figure(figsize = (5, 5))\n",
    "b_viz.groupby(['two_seats','car_negara'])['itungan'].sum().unstack().plot(kind='bar')\n",
    "plt.title('', loc='center',pad=30,fontsize=15,color='blue')\n",
    "\n",
    "plt.legend(bbox_to_anchor=(1,0.75), title='Negara Asal')\n",
    "plt.ylim(ymin=0)\n",
    "plt.xticks(rotation=0)\n",
    "plt.tight_layout()\n",
    "plt.show()"
   ]
  },
  {
   "cell_type": "markdown",
   "metadata": {},
   "source": [
    "bikin harga nya non two seats  dan seats"
   ]
  },
  {
   "cell_type": "code",
   "execution_count": 90,
   "metadata": {},
   "outputs": [
    {
     "data": {
      "text/plain": [
       "(array([0, 1]), <a list of 2 Text major ticklabel objects>)"
      ]
     },
     "execution_count": 90,
     "metadata": {},
     "output_type": "execute_result"
    },
    {
     "data": {
      "image/png": "[encoded data removed]",
      "text/plain": [
       "<Figure size 288x576 with 1 Axes>"
      ]
     },
     "metadata": {
      "needs_background": "light"
     },
     "output_type": "display_data"
    }
   ],
   "source": [
    "var = 'two_seats'\n",
    "data = pd.concat([b_viz['Price'], b_viz[var]], axis=1)\n",
    "f, ax = plt.subplots(figsize=(4, 8))\n",
    "fig = sns.boxplot(x=var, y=\"Price\", data=data)\n",
    "fig.axis(ymin=0);\n",
    "plt.xticks(rotation=0)"
   ]
  },
  {
   "cell_type": "markdown",
   "metadata": {},
   "source": [
    "harga mobil per negara, bukan countplot"
   ]
  },
  {
   "cell_type": "code",
   "execution_count": 84,
   "metadata": {},
   "outputs": [
    {
     "data": {
      "text/plain": [
       "(array([0, 1, 2, 3, 4, 5, 6]), <a list of 7 Text major ticklabel objects>)"
      ]
     },
     "execution_count": 84,
     "metadata": {},
     "output_type": "execute_result"
    },
    {
     "data": {
      "image/png": "[encoded data removed]",
      "text/plain": [
       "<Figure size 1440x720 with 1 Axes>"
      ]
     },
     "metadata": {
      "needs_background": "light"
     },
     "output_type": "display_data"
    }
   ],
   "source": [
    "var = 'car_negara'\n",
    "data = pd.concat([b_viz['Price'], b_viz[var]], axis=1)\n",
    "f, ax = plt.subplots(figsize=(20, 10))\n",
    "fig = sns.boxplot(x=var, y=\"Price\", data=data)\n",
    "fig.axis(ymin=0);\n",
    "plt.xticks(rotation=0)"
   ]
  },
  {
   "cell_type": "code",
   "execution_count": null,
   "metadata": {},
   "outputs": [],
   "source": []
  },
  {
   "cell_type": "markdown",
   "metadata": {},
   "source": [
    "Age vs Price"
   ]
  },
  {
   "cell_type": "code",
   "execution_count": 91,
   "metadata": {},
   "outputs": [
    {
     "data": {
      "text/plain": [
       "Text(0.5, 1.0, 'Prices vs Age')"
      ]
     },
     "execution_count": 91,
     "metadata": {},
     "output_type": "execute_result"
    },
    {
     "data": {
      "image/png": "[encoded data removed]",
      "text/plain": [
       "<Figure size 720x360 with 1 Axes>"
      ]
     },
     "metadata": {
      "needs_background": "light"
     },
     "output_type": "display_data"
    }
   ],
   "source": [
    "axis = b_viz.groupby('Age')[['Price']].mean().plot(figsize=(10,5),marker='o',color='r')\n",
    "plt.title(\"Prices vs Age\", fontsize=20,ha='center')"
   ]
  },
  {
   "cell_type": "markdown",
   "metadata": {},
   "source": [
    "## Untuk insight ML"
   ]
  },
  {
   "cell_type": "code",
   "execution_count": 100,
   "metadata": {},
   "outputs": [
    {
     "data": {
      "text/plain": [
       "<matplotlib.axes._subplots.AxesSubplot at 0x27979d17cd0>"
      ]
     },
     "execution_count": 100,
     "metadata": {},
     "output_type": "execute_result"
    },
    {
     "data": {
      "image/png": "[encoded data removed]",
      "text/plain": [
       "<Figure size 864x288 with 1 Axes>"
      ]
     },
     "metadata": {
      "needs_background": "light"
     },
     "output_type": "display_data"
    }
   ],
   "source": [
    "#before\n",
    "\n",
    "var = 'Owner_Type'\n",
    "fig, ax = plt.subplots()\n",
    "\n",
    "sns.stripplot(x = var, y ='Price', data = b_viz) "
   ]
  },
  {
   "cell_type": "code",
   "execution_count": 102,
   "metadata": {},
   "outputs": [
    {
     "data": {
      "text/plain": [
       "<matplotlib.axes._subplots.AxesSubplot at 0x2797a069430>"
      ]
     },
     "execution_count": 102,
     "metadata": {},
     "output_type": "execute_result"
    },
    {
     "data": {
      "image/png": "[encoded data removed]",
      "text/plain": [
       "<Figure size 864x288 with 1 Axes>"
      ]
     },
     "metadata": {
      "needs_background": "light"
     },
     "output_type": "display_data"
    }
   ],
   "source": [
    "#after\n",
    "\n",
    "var = 'owner_type'\n",
    "fig, ax = plt.subplots()\n",
    "\n",
    "sns.stripplot(x = var, y ='Price', data = b_viz) "
   ]
  },
  {
   "cell_type": "markdown",
   "metadata": {},
   "source": [
    "## Pre Processing Untuk Machine Learning"
   ]
  },
  {
   "cell_type": "markdown",
   "metadata": {},
   "source": [
    "### Feature Encoding"
   ]
  },
  {
   "cell_type": "code",
   "execution_count": null,
   "metadata": {},
   "outputs": [],
   "source": [
    "df_train"
   ]
  },
  {
   "cell_type": "markdown",
   "metadata": {},
   "source": [
    "drop \"Owner_Type\" dan \"Brand\" karena sudah digantikan"
   ]
  },
  {
   "cell_type": "code",
   "execution_count": null,
   "metadata": {},
   "outputs": [],
   "source": [
    "df_train.drop([\"Brand\"],axis=1,inplace=True)\n",
    "df_train.drop([\"Owner_Type\"],axis=1,inplace=True)\n",
    "df_train.drop(['itungan'],axis=1,inplace=True)"
   ]
  },
  {
   "cell_type": "markdown",
   "metadata": {},
   "source": [
    "drop \"Location\""
   ]
  },
  {
   "cell_type": "code",
   "execution_count": null,
   "metadata": {},
   "outputs": [],
   "source": [
    "df_train.drop([\"Location\"],axis=1,inplace=True)"
   ]
  },
  {
   "cell_type": "markdown",
   "metadata": {},
   "source": [
    "Fuel_Type"
   ]
  },
  {
   "cell_type": "code",
   "execution_count": null,
   "metadata": {},
   "outputs": [],
   "source": [
    "Fuel_t = df_train[['Fuel_Type']]\n",
    "Fuel_t = pd.get_dummies(Fuel_t,drop_first=True)\n",
    "\n",
    "Fuel_t.head()"
   ]
  },
  {
   "cell_type": "markdown",
   "metadata": {},
   "source": [
    "Transmission"
   ]
  },
  {
   "cell_type": "code",
   "execution_count": null,
   "metadata": {},
   "outputs": [],
   "source": [
    "Transmission = df_train[[\"Transmission\"]]\n",
    "Transmission = pd.get_dummies(Transmission,drop_first=True)\n",
    "\n",
    "Transmission.head()"
   ]
  },
  {
   "cell_type": "markdown",
   "metadata": {},
   "source": [
    "car_negara"
   ]
  },
  {
   "cell_type": "code",
   "execution_count": null,
   "metadata": {},
   "outputs": [],
   "source": [
    "Location = df_train[[\"car_negara\"]]\n",
    "Location = pd.get_dummies(Location,drop_first=True)\n",
    "\n",
    "Location.head()"
   ]
  },
  {
   "cell_type": "markdown",
   "metadata": {},
   "source": [
    "owner_type"
   ]
  },
  {
   "cell_type": "code",
   "execution_count": null,
   "metadata": {},
   "outputs": [],
   "source": [
    "df_train.replace({\"First\":1,\"Second\":2,\"Third>\": 3},inplace=True)\n",
    "\n",
    "df_train.head()"
   ]
  },
  {
   "cell_type": "markdown",
   "metadata": {},
   "source": [
    "Gabungkan encoding dan hapus yang lama"
   ]
  },
  {
   "cell_type": "code",
   "execution_count": null,
   "metadata": {},
   "outputs": [],
   "source": [
    "df_train.drop([\"Fuel_Type\"],axis=1,inplace=True)\n",
    "df_train.drop([\"Transmission\"],axis=1,inplace=True)\n",
    "df_train.drop([\"car_negara\"],axis=1,inplace=True)\n",
    "df_train.drop([\"Year\"],axis=1,inplace=True)\n",
    "df_train.drop([\"Seats\"],axis=1,inplace=True)"
   ]
  },
  {
   "cell_type": "code",
   "execution_count": null,
   "metadata": {},
   "outputs": [],
   "source": [
    "final_train= pd.concat([df_train,Location,Fuel_t,Transmission],axis=1)\n",
    "\n",
    "final_train.head()"
   ]
  },
  {
   "cell_type": "markdown",
   "metadata": {},
   "source": [
    "### Standarisasi"
   ]
  },
  {
   "cell_type": "code",
   "execution_count": null,
   "metadata": {},
   "outputs": [],
   "source": [
    "from sklearn.preprocessing import MinMaxScaler, StandardScaler\n",
    "\n",
    "final_train['Age'] = StandardScaler().fit_transform(final_train['Age'].values.reshape(len(final_train), 1))\n",
    "final_train['Kilometers_Driven'] = StandardScaler().fit_transform(final_train['Kilometers_Driven'].values.reshape(len(final_train), 1))\n",
    "final_train['Mileage(km/kg)'] = StandardScaler().fit_transform(final_train['Mileage(km/kg)'].values.reshape(len(final_train), 1))\n",
    "final_train['Engine(CC)'] = StandardScaler().fit_transform(final_train['Engine(CC)'].values.reshape(len(final_train), 1))\n",
    "final_train['Power(bhp)'] = StandardScaler().fit_transform(final_train['Power(bhp)'].values.reshape(len(final_train), 1))\n",
    "final_train['Price'] = StandardScaler().fit_transform(final_train['Price'].values.reshape(len(final_train), 1))"
   ]
  },
  {
   "cell_type": "markdown",
   "metadata": {},
   "source": [
    "### Memisahkan train dengan test"
   ]
  },
  {
   "cell_type": "code",
   "execution_count": null,
   "metadata": {},
   "outputs": [],
   "source": [
    "x = final_train.loc[:,['Kilometers_Driven', 'Mileage(km/kg)', 'Engine(CC)',\n",
    "       'Power(bhp)', 'owner_type', 'Age', 'two_seats', 'car_negara_Asia',\n",
    "       'car_negara_Eropa', 'car_negara_India', 'car_negara_Inggris',\n",
    "       'car_negara_Jepang', 'car_negara_Jerman', 'Fuel_Type_Diesel',\n",
    "       'Fuel_Type_LPG', 'Fuel_Type_Petrol', 'Transmission_Manual']]\n",
    "\n",
    "y = final_train.loc[:,['Price']]"
   ]
  },
  {
   "cell_type": "code",
   "execution_count": null,
   "metadata": {},
   "outputs": [],
   "source": [
    "from sklearn.model_selection import train_test_split\n",
    "x_train, x_test, y_train, y_test = train_test_split(x, y, test_size = 0.2, random_state = 24)"
   ]
  },
  {
   "cell_type": "markdown",
   "metadata": {},
   "source": [
    "### Pemodelan"
   ]
  },
  {
   "cell_type": "code",
   "execution_count": null,
   "metadata": {},
   "outputs": [],
   "source": [
    "#Linear Regresi\n",
    "\n",
    "from sklearn.linear_model import LinearRegression\n",
    "from sklearn.metrics import r2_score\n",
    "from sklearn.metrics import mean_squared_error\n",
    "\n",
    "lr = LinearRegression()\n",
    "lr.fit(x_train, y_train)\n",
    "y_pred = lr.predict(x_test)\n",
    "mae_lr = round(mean_squared_error(y_test, y_pred),5)\n",
    "\n",
    "print(\"R squared on testing: \",lr.score(x_test,y_test))\n",
    "print('Mean absolute error:', mae_lr)"
   ]
  },
  {
   "cell_type": "code",
   "execution_count": null,
   "metadata": {},
   "outputs": [],
   "source": [
    "#Ridge\n",
    "\n",
    "from sklearn.linear_model import Ridge\n",
    "ridge = Ridge(alpha=2)\n",
    "ridge.fit(x_train, y_train)\n",
    "ridge_pred = ridge.predict(x_test)\n",
    "score_ridge = round(r2_score(y_test, ridge_pred),4)\n",
    "mae_ridge = round(mean_squared_error(y_test, ridge_pred),8)\n",
    "\n",
    "print('R squared ridge on testing:', score_ridge)\n",
    "print('Mean absolute error:', mae_ridge)"
   ]
  },
  {
   "cell_type": "code",
   "execution_count": null,
   "metadata": {},
   "outputs": [],
   "source": [
    "#Lasso \n",
    "\n",
    "from sklearn.linear_model import Lasso\n",
    "\n",
    "lasso = Lasso()\n",
    "lasso.fit(x_train, y_train)\n",
    "lasso_pred = lasso.predict(x_test)\n",
    "score_lasso = round(r2_score(y_test, lasso_pred),2)\n",
    "mae_lasso = round(mean_squared_error(y_test, lasso_pred),8)\n",
    "\n",
    "print('R squared lasso on testing:', score_lasso)\n",
    "print('Mean absolute error:', mae_lasso)"
   ]
  },
  {
   "cell_type": "code",
   "execution_count": null,
   "metadata": {},
   "outputs": [],
   "source": [
    "# Random Forest Regressor\n",
    "\n",
    "from sklearn.ensemble import RandomForestRegressor\n",
    "\n",
    "rf = RandomForestRegressor()\n",
    "rf.fit(x_train, y_train)\n",
    "rf_pred = rf.predict(x_test)\n",
    "score_rf = round(r2_score(y_test, rf_pred),4)\n",
    "mae_rf = round(mean_squared_error(y_test, rf_pred),8)\n",
    "\n",
    "print('Random Forest Score:', score_rf)\n",
    "print('Mean absolute error:', mae_rf)"
   ]
  }
 ],
 "metadata": {
  "kernelspec": {
   "display_name": "Python 3",
   "language": "python",
   "name": "python3"
  },
  "language_info": {
   "codemirror_mode": {
    "name": "ipython",
    "version": 3
   },
   "file_extension": ".py",
   "mimetype": "text/x-python",
   "name": "python",
   "nbconvert_exporter": "python",
   "pygments_lexer": "ipython3",
   "version": "3.8.3"
  }
 },
 "nbformat": 4,
 "nbformat_minor": 4
}
